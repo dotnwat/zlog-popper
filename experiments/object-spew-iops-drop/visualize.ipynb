{
 "cells": [
  {
   "cell_type": "code",
   "execution_count": 21,
   "metadata": {
    "collapsed": false
   },
   "outputs": [],
   "source": [
    "import sys\n",
    "import glob\n",
    "import os\n",
    "import re\n",
    "import pandas as pd\n",
    "import matplotlib\n",
    "import matplotlib.pyplot as plt\n",
    "import numpy as np\n",
    "import datetime\n",
    "import pytz\n",
    "%matplotlib inline"
   ]
  },
  {
   "cell_type": "code",
   "execution_count": 22,
   "metadata": {
    "collapsed": true
   },
   "outputs": [],
   "source": [
    "tz = pytz.timezone('America/Denver')"
   ]
  },
  {
   "cell_type": "code",
   "execution_count": 52,
   "metadata": {
    "collapsed": false
   },
   "outputs": [],
   "source": [
    "def get_start_split_trace():\n",
    "    events = []\n",
    "    for line in open('bs11/ceph-osd.0.log'):\n",
    "        parts = line.split()\n",
    "        if len(parts) > 5 and parts[4] == \"start_split\":\n",
    "            date = parts[0]\n",
    "            time = parts[1].split(\".\")[0]\n",
    "            dtstr = date + \" \" + time\n",
    "            d = dt.datetime.strptime(dtstr, \"%Y-%m-%d %H:%M:%S\")\n",
    "            events.append(d)\n",
    "    return events\n",
    "\n",
    "def get_finish_split_trace():\n",
    "    events = []\n",
    "    for line in open('bs11/ceph-osd.0.log'):\n",
    "        parts = line.split()\n",
    "        if len(parts) > 5 and parts[4] == \"complete_split\":\n",
    "            date = parts[0]\n",
    "            time = parts[1].split(\".\")[0]\n",
    "            dtstr = date + \" \" + time\n",
    "            d = dt.datetime.strptime(dtstr, \"%Y-%m-%d %H:%M:%S\")\n",
    "            events.append(d)\n",
    "    return events"
   ]
  },
  {
   "cell_type": "code",
   "execution_count": 58,
   "metadata": {
    "collapsed": false
   },
   "outputs": [],
   "source": [
    "def get_client_tp_trace():\n",
    "    times = []\n",
    "    rates = []\n",
    "    for line in open('bs11/client.log'):\n",
    "        parts = line.split()\n",
    "        assert len(parts) == 5\n",
    "        seconds = long(parts[2])\n",
    "        rate = long(parts[3].split(\"=\")[1])\n",
    "        d = datetime.datetime.fromtimestamp(seconds, tz).replace(tzinfo=None)\n",
    "        times.append(d)\n",
    "        rates.append(rate)\n",
    "        \n",
    "    trace = pd.DataFrame({'time': times, 'iops': rates})\n",
    "    \n",
    "    ### order like a time series by the completion time of the I/O\n",
    "    trace.sort_values(by='time', ascending=True, inplace=True)\n",
    "    return trace"
   ]
  },
  {
   "cell_type": "code",
   "execution_count": 61,
   "metadata": {
    "collapsed": false
   },
   "outputs": [
    {
     "name": "stdout",
     "output_type": "stream",
     "text": [
      "    iops                time\n",
      "0  21120 2016-04-28 18:58:25\n",
      "1  12742 2016-04-28 18:58:27\n",
      "2  20842 2016-04-28 18:58:29\n",
      "3  18579 2016-04-28 18:58:31\n",
      "4  12618 2016-04-28 18:58:33\n"
     ]
    },
    {
     "data": {
      "text/html": [
       "<div>\n",
       "<table border=\"1\" class=\"dataframe\">\n",
       "  <thead>\n",
       "    <tr style=\"text-align: right;\">\n",
       "      <th></th>\n",
       "      <th>split_end</th>\n",
       "      <th>split_start</th>\n",
       "      <th>y1</th>\n",
       "      <th>y2</th>\n",
       "    </tr>\n",
       "  </thead>\n",
       "  <tbody>\n",
       "    <tr>\n",
       "      <th>0</th>\n",
       "      <td>2016-04-28 18:59:06</td>\n",
       "      <td>2016-04-28 18:59:05</td>\n",
       "      <td>20443</td>\n",
       "      <td>21666</td>\n",
       "    </tr>\n",
       "    <tr>\n",
       "      <th>1</th>\n",
       "      <td>2016-04-28 18:59:06</td>\n",
       "      <td>2016-04-28 18:59:06</td>\n",
       "      <td>19473</td>\n",
       "      <td>22925</td>\n",
       "    </tr>\n",
       "    <tr>\n",
       "      <th>2</th>\n",
       "      <td>2016-04-28 18:59:06</td>\n",
       "      <td>2016-04-28 18:59:06</td>\n",
       "      <td>19470</td>\n",
       "      <td>22736</td>\n",
       "    </tr>\n",
       "    <tr>\n",
       "      <th>3</th>\n",
       "      <td>2016-04-28 18:59:06</td>\n",
       "      <td>2016-04-28 18:59:06</td>\n",
       "      <td>20428</td>\n",
       "      <td>21619</td>\n",
       "    </tr>\n",
       "    <tr>\n",
       "      <th>4</th>\n",
       "      <td>2016-04-28 18:59:07</td>\n",
       "      <td>2016-04-28 18:59:06</td>\n",
       "      <td>19001</td>\n",
       "      <td>21680</td>\n",
       "    </tr>\n",
       "  </tbody>\n",
       "</table>\n",
       "</div>"
      ],
      "text/plain": [
       "            split_end         split_start     y1     y2\n",
       "0 2016-04-28 18:59:06 2016-04-28 18:59:05  20443  21666\n",
       "1 2016-04-28 18:59:06 2016-04-28 18:59:06  19473  22925\n",
       "2 2016-04-28 18:59:06 2016-04-28 18:59:06  19470  22736\n",
       "3 2016-04-28 18:59:06 2016-04-28 18:59:06  20428  21619\n",
       "4 2016-04-28 18:59:07 2016-04-28 18:59:06  19001  21680"
      ]
     },
     "execution_count": 61,
     "metadata": {},
     "output_type": "execute_result"
    }
   ],
   "source": [
    "client_trace = get_client_tp_trace()\n",
    "print client_trace.head()\n",
    "\n",
    "df = pd.DataFrame({'split_start': get_start_split_trace(), 'split_end': get_finish_split_trace()})\n",
    "df['y1'] = np.random.randint(19000, 21000, len(df.split_start))\n",
    "df['y2'] = np.random.randint(21500, 23500, len(df.split_start))\n",
    "df.sort_values(by='split_start', ascending=True, inplace=True)\n",
    "df.head()"
   ]
  },
  {
   "cell_type": "code",
   "execution_count": 62,
   "metadata": {
    "collapsed": false
   },
   "outputs": [
    {
     "data": {
      "image/png": "[encoded data removed]",
      "text/plain": [
       "<matplotlib.figure.Figure at 0x7fe0997b15d0>"
      ]
     },
     "metadata": {},
     "output_type": "display_data"
    }
   ],
   "source": [
    "fig = plt.figure()\n",
    "ax = fig.add_subplot(111)\n",
    "ax.plot(df.split_start, df.y1, label='a', marker=',', linestyle='')\n",
    "ax.plot(df.split_end, df.y2, label='b', marker=',', linestyle='')\n",
    "ax.plot(client_trace.time, client_trace.iops)\n",
    "plt.savefig('x.png', dpi=300, bbox_inches='tight')"
   ]
  }
 ],
 "metadata": {
  "kernelspec": {
   "display_name": "Python 2",
   "language": "python",
   "name": "python2"
  },
  "language_info": {
   "codemirror_mode": {
    "name": "ipython",
    "version": 2
   },
   "file_extension": ".py",
   "mimetype": "text/x-python",
   "name": "python",
   "nbconvert_exporter": "python",
   "pygments_lexer": "ipython2",
   "version": "2.7.11"
  }
 },
 "nbformat": 4,
 "nbformat_minor": 0
}
