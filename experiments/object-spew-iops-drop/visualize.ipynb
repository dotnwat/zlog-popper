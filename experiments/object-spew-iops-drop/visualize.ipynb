{
 "cells": [
  {
   "cell_type": "code",
   "execution_count": 1,
   "metadata": {
    "collapsed": false
   },
   "outputs": [
    {
     "name": "stderr",
     "output_type": "stream",
     "text": [
      "/opt/conda/envs/python2/lib/python2.7/site-packages/matplotlib/font_manager.py:273: UserWarning: Matplotlib is building the font cache using fc-list. This may take a moment.\n",
      "  warnings.warn('Matplotlib is building the font cache using fc-list. This may take a moment.')\n"
     ]
    }
   ],
   "source": [
    "import sys\n",
    "import glob\n",
    "import os\n",
    "import re\n",
    "import pandas as pd\n",
    "import matplotlib\n",
    "import matplotlib.pyplot as plt\n",
    "import numpy as np\n",
    "import datetime\n",
    "import pytz\n",
    "%matplotlib inline"
   ]
  },
  {
   "cell_type": "code",
   "execution_count": 2,
   "metadata": {
    "collapsed": true
   },
   "outputs": [],
   "source": [
    "tz = pytz.timezone('America/Denver')"
   ]
  },
  {
   "cell_type": "code",
   "execution_count": 3,
   "metadata": {
    "collapsed": false
   },
   "outputs": [],
   "source": [
    "def get_start_split_trace(fn):\n",
    "    events = []\n",
    "    for line in open(fn):\n",
    "        parts = line.split()\n",
    "        if len(parts) > 5 and parts[4] == \"start_split\":\n",
    "            date = parts[0]\n",
    "            time = parts[1].split(\".\")[0]\n",
    "            dtstr = date + \" \" + time\n",
    "            d = datetime.datetime.strptime(dtstr, \"%Y-%m-%d %H:%M:%S\")\n",
    "            events.append(d)\n",
    "    return events\n",
    "\n",
    "def get_finish_split_trace(fn):\n",
    "    events = []\n",
    "    for line in open(fn):\n",
    "        parts = line.split()\n",
    "        if len(parts) > 5 and parts[4] == \"complete_split\":\n",
    "            date = parts[0]\n",
    "            time = parts[1].split(\".\")[0]\n",
    "            dtstr = date + \" \" + time\n",
    "            d = datetime.datetime.strptime(dtstr, \"%Y-%m-%d %H:%M:%S\")\n",
    "            events.append(d)\n",
    "    return events"
   ]
  },
  {
   "cell_type": "code",
   "execution_count": 4,
   "metadata": {
    "collapsed": false
   },
   "outputs": [],
   "source": [
    "def get_client_tp_trace(fn):\n",
    "    times = []\n",
    "    rates = []\n",
    "    for line in open(fn):\n",
    "        parts = line.split()\n",
    "        assert len(parts) == 5\n",
    "        seconds = long(parts[2])\n",
    "        rate = long(parts[3].split(\"=\")[1])\n",
    "        d = datetime.datetime.fromtimestamp(seconds, tz).replace(tzinfo=None)\n",
    "        times.append(d)\n",
    "        rates.append(rate)\n",
    "        \n",
    "    trace = pd.DataFrame({'time': times, 'iops': rates})\n",
    "    \n",
    "    ### order like a time series by the completion time of the I/O\n",
    "    trace.sort_values(by='time', ascending=True, inplace=True)\n",
    "    return trace"
   ]
  },
  {
   "cell_type": "code",
   "execution_count": 5,
   "metadata": {
    "collapsed": false
   },
   "outputs": [
    {
     "name": "stdout",
     "output_type": "stream",
     "text": [
      "    iops                time\n",
      "0  21120 2016-04-28 18:58:25\n",
      "1  12742 2016-04-28 18:58:27\n",
      "2  20842 2016-04-28 18:58:29\n",
      "3  18579 2016-04-28 18:58:31\n",
      "4  12618 2016-04-28 18:58:33\n"
     ]
    },
    {
     "data": {
      "text/html": [
       "<div>\n",
       "<table border=\"1\" class=\"dataframe\">\n",
       "  <thead>\n",
       "    <tr style=\"text-align: right;\">\n",
       "      <th></th>\n",
       "      <th>split_end</th>\n",
       "      <th>split_start</th>\n",
       "      <th>y1</th>\n",
       "      <th>y2</th>\n",
       "    </tr>\n",
       "  </thead>\n",
       "  <tbody>\n",
       "    <tr>\n",
       "      <th>0</th>\n",
       "      <td>2016-04-28 18:59:06</td>\n",
       "      <td>2016-04-28 18:59:05</td>\n",
       "      <td>19040</td>\n",
       "      <td>21717</td>\n",
       "    </tr>\n",
       "    <tr>\n",
       "      <th>1</th>\n",
       "      <td>2016-04-28 18:59:06</td>\n",
       "      <td>2016-04-28 18:59:06</td>\n",
       "      <td>20920</td>\n",
       "      <td>22687</td>\n",
       "    </tr>\n",
       "    <tr>\n",
       "      <th>2</th>\n",
       "      <td>2016-04-28 18:59:06</td>\n",
       "      <td>2016-04-28 18:59:06</td>\n",
       "      <td>20502</td>\n",
       "      <td>23379</td>\n",
       "    </tr>\n",
       "    <tr>\n",
       "      <th>3</th>\n",
       "      <td>2016-04-28 18:59:06</td>\n",
       "      <td>2016-04-28 18:59:06</td>\n",
       "      <td>20369</td>\n",
       "      <td>23488</td>\n",
       "    </tr>\n",
       "    <tr>\n",
       "      <th>4</th>\n",
       "      <td>2016-04-28 18:59:07</td>\n",
       "      <td>2016-04-28 18:59:06</td>\n",
       "      <td>20735</td>\n",
       "      <td>21553</td>\n",
       "    </tr>\n",
       "  </tbody>\n",
       "</table>\n",
       "</div>"
      ],
      "text/plain": [
       "            split_end         split_start     y1     y2\n",
       "0 2016-04-28 18:59:06 2016-04-28 18:59:05  19040  21717\n",
       "1 2016-04-28 18:59:06 2016-04-28 18:59:06  20920  22687\n",
       "2 2016-04-28 18:59:06 2016-04-28 18:59:06  20502  23379\n",
       "3 2016-04-28 18:59:06 2016-04-28 18:59:06  20369  23488\n",
       "4 2016-04-28 18:59:07 2016-04-28 18:59:06  20735  21553"
      ]
     },
     "execution_count": 5,
     "metadata": {},
     "output_type": "execute_result"
    }
   ],
   "source": [
    "client_trace = get_client_tp_trace('bs11/client.log')\n",
    "print client_trace.head()\n",
    "\n",
    "df = pd.DataFrame({'split_start': get_start_split_trace('bs11/ceph-osd.0.log'),\n",
    "                   'split_end': get_finish_split_trace('bs11/ceph-osd.0.log')})\n",
    "df['y1'] = np.random.randint(19000, 21000, len(df.split_start))\n",
    "df['y2'] = np.random.randint(21500, 23500, len(df.split_start))\n",
    "df.sort_values(by='split_start', ascending=True, inplace=True)\n",
    "df.head()"
   ]
  },
  {
   "cell_type": "code",
   "execution_count": 6,
   "metadata": {
    "collapsed": false
   },
   "outputs": [
    {
     "data": {
      "image/png": "[encoded data removed]",
      "text/plain": [
       "<matplotlib.figure.Figure at 0x7fd2b6868890>"
      ]
     },
     "metadata": {},
     "output_type": "display_data"
    }
   ],
   "source": [
    "fig = plt.figure()\n",
    "ax = fig.add_subplot(111)\n",
    "ax.plot(df.split_start, df.y1, label='a', marker=',', linestyle='')\n",
    "ax.plot(df.split_end, df.y2, label='b', marker=',', linestyle='')\n",
    "ax.plot(client_trace.time, client_trace.iops)\n",
    "plt.savefig('x.png', dpi=300, bbox_inches='tight')"
   ]
  },
  {
   "cell_type": "code",
   "execution_count": 7,
   "metadata": {
    "collapsed": false
   },
   "outputs": [
    {
     "name": "stdout",
     "output_type": "stream",
     "text": [
      "   iops                time\n",
      "0  5196 2016-04-28 22:10:35\n",
      "1  4869 2016-04-28 22:10:37\n",
      "2  4926 2016-04-28 22:10:39\n",
      "3  4969 2016-04-28 22:10:41\n",
      "4  4935 2016-04-28 22:10:43\n"
     ]
    },
    {
     "data": {
      "text/html": [
       "<div>\n",
       "<table border=\"1\" class=\"dataframe\">\n",
       "  <thead>\n",
       "    <tr style=\"text-align: right;\">\n",
       "      <th></th>\n",
       "      <th>split_end</th>\n",
       "      <th>split_start</th>\n",
       "      <th>y1</th>\n",
       "      <th>y2</th>\n",
       "    </tr>\n",
       "  </thead>\n",
       "  <tbody>\n",
       "    <tr>\n",
       "      <th>0</th>\n",
       "      <td>2016-04-28 22:12:52</td>\n",
       "      <td>2016-04-28 22:12:52</td>\n",
       "      <td>20884</td>\n",
       "      <td>21659</td>\n",
       "    </tr>\n",
       "    <tr>\n",
       "      <th>1</th>\n",
       "      <td>2016-04-28 22:12:52</td>\n",
       "      <td>2016-04-28 22:12:52</td>\n",
       "      <td>19580</td>\n",
       "      <td>23320</td>\n",
       "    </tr>\n",
       "    <tr>\n",
       "      <th>2</th>\n",
       "      <td>2016-04-28 22:12:53</td>\n",
       "      <td>2016-04-28 22:12:53</td>\n",
       "      <td>20702</td>\n",
       "      <td>21986</td>\n",
       "    </tr>\n",
       "    <tr>\n",
       "      <th>3</th>\n",
       "      <td>2016-04-28 22:12:53</td>\n",
       "      <td>2016-04-28 22:12:53</td>\n",
       "      <td>19391</td>\n",
       "      <td>23170</td>\n",
       "    </tr>\n",
       "    <tr>\n",
       "      <th>4</th>\n",
       "      <td>2016-04-28 22:12:54</td>\n",
       "      <td>2016-04-28 22:12:54</td>\n",
       "      <td>20576</td>\n",
       "      <td>22270</td>\n",
       "    </tr>\n",
       "  </tbody>\n",
       "</table>\n",
       "</div>"
      ],
      "text/plain": [
       "            split_end         split_start     y1     y2\n",
       "0 2016-04-28 22:12:52 2016-04-28 22:12:52  20884  21659\n",
       "1 2016-04-28 22:12:52 2016-04-28 22:12:52  19580  23320\n",
       "2 2016-04-28 22:12:53 2016-04-28 22:12:53  20702  21986\n",
       "3 2016-04-28 22:12:53 2016-04-28 22:12:53  19391  23170\n",
       "4 2016-04-28 22:12:54 2016-04-28 22:12:54  20576  22270"
      ]
     },
     "execution_count": 7,
     "metadata": {},
     "output_type": "execute_result"
    }
   ],
   "source": [
    "client_trace2 = get_client_tp_trace('kv11/kv_11_8000.log')\n",
    "print client_trace2.head()\n",
    "\n",
    "df2 = pd.DataFrame({'split_start': get_start_split_trace('kv11/ceph-osd.0.log'),\n",
    "                   'split_end': get_finish_split_trace('kv11/ceph-osd.0.log')})\n",
    "df2['y1'] = np.random.randint(19000, 21000, len(df.split_start))\n",
    "df2['y2'] = np.random.randint(21500, 23500, len(df.split_start))\n",
    "df2.sort_values(by='split_start', ascending=True, inplace=True)\n",
    "df2.head()"
   ]
  },
  {
   "cell_type": "code",
   "execution_count": 8,
   "metadata": {
    "collapsed": false
   },
   "outputs": [
    {
     "data": {
      "image/png": "[encoded data removed]",
      "text/plain": [
       "<matplotlib.figure.Figure at 0x7fd2e49356d0>"
      ]
     },
     "metadata": {},
     "output_type": "display_data"
    }
   ],
   "source": [
    "fig = plt.figure()\n",
    "ax = fig.add_subplot(111)\n",
    "ax.plot(df2.split_start, df.y1, label='a', marker=',', linestyle='')\n",
    "ax.plot(df2.split_end, df.y2, label='b', marker=',', linestyle='')\n",
    "ax.plot(client_trace2.time, client_trace2.iops)\n",
    "plt.savefig('x.png', dpi=300, bbox_inches='tight')"
   ]
  },
  {
   "cell_type": "code",
   "execution_count": null,
   "metadata": {
    "collapsed": true
   },
   "outputs": [],
   "source": []
  }
 ],
 "metadata": {
  "kernelspec": {
   "display_name": "Python 2",
   "language": "python",
   "name": "python2"
  },
  "language_info": {
   "codemirror_mode": {
    "name": "ipython",
    "version": 2
   },
   "file_extension": ".py",
   "mimetype": "text/x-python",
   "name": "python",
   "nbconvert_exporter": "python",
   "pygments_lexer": "ipython2",
   "version": "2.7.11"
  }
 },
 "nbformat": 4,
 "nbformat_minor": 0
}
