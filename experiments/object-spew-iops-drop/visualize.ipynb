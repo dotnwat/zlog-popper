{
 "cells": [
  {
   "cell_type": "markdown",
   "metadata": {},
   "source": [
    "# What are the throughput dips at the beginning and midway through the 1:1 workloads?\n",
    "\n",
    "In the FileStore backend objects map to files. These files are mapped onto a directory structure. To keep directories from growing too large they may be split (or merged to combine small directories). Splitting is triggered during object creation within the file store.\n",
    "\n",
    "We modified the FileStore backend to drop a note into the Ceph logs when a split is initiated and when it completes. We plot the 1:1 bytestream appends and the start and end events. It's clear that the start and end events of splitting directories are correlated with the dips in performance."
   ]
  },
  {
   "cell_type": "code",
   "execution_count": 23,
   "metadata": {
    "collapsed": false
   },
   "outputs": [],
   "source": [
    "import sys\n",
    "import glob\n",
    "import os\n",
    "import re\n",
    "import pandas as pd\n",
    "import matplotlib\n",
    "import matplotlib.pyplot as plt\n",
    "import numpy as np\n",
    "import datetime\n",
    "import pytz\n",
    "%matplotlib inline"
   ]
  },
  {
   "cell_type": "code",
   "execution_count": 24,
   "metadata": {
    "collapsed": true
   },
   "outputs": [],
   "source": [
    "tz = pytz.timezone('America/Denver')"
   ]
  },
  {
   "cell_type": "code",
   "execution_count": 25,
   "metadata": {
    "collapsed": false
   },
   "outputs": [],
   "source": [
    "def get_start_split_trace(fn):\n",
    "    events = []\n",
    "    for line in open(fn):\n",
    "        parts = line.split()\n",
    "        if len(parts) > 5 and parts[4] == \"start_split\":\n",
    "            date = parts[0]\n",
    "            time = parts[1].split(\".\")[0]\n",
    "            dtstr = date + \" \" + time\n",
    "            d = datetime.datetime.strptime(dtstr, \"%Y-%m-%d %H:%M:%S\")\n",
    "            events.append(d)\n",
    "    return events\n",
    "\n",
    "def get_finish_split_trace(fn):\n",
    "    events = []\n",
    "    for line in open(fn):\n",
    "        parts = line.split()\n",
    "        if len(parts) > 5 and parts[4] == \"complete_split\":\n",
    "            date = parts[0]\n",
    "            time = parts[1].split(\".\")[0]\n",
    "            dtstr = date + \" \" + time\n",
    "            d = datetime.datetime.strptime(dtstr, \"%Y-%m-%d %H:%M:%S\")\n",
    "            events.append(d)\n",
    "    return events"
   ]
  },
  {
   "cell_type": "code",
   "execution_count": 26,
   "metadata": {
    "collapsed": false
   },
   "outputs": [],
   "source": [
    "def get_client_tp_trace(fn):\n",
    "    times = []\n",
    "    rates = []\n",
    "    for line in open(fn):\n",
    "        parts = line.split()\n",
    "        assert len(parts) == 5\n",
    "        seconds = long(parts[2])\n",
    "        rate = long(parts[3].split(\"=\")[1])\n",
    "        d = datetime.datetime.fromtimestamp(seconds, tz).replace(tzinfo=None)\n",
    "        times.append(d)\n",
    "        rates.append(rate)\n",
    "        \n",
    "    trace = pd.DataFrame({'time': times, 'iops': rates})\n",
    "    \n",
    "    ### order like a time series by the completion time of the I/O\n",
    "    trace.sort_values(by='time', ascending=True, inplace=True)\n",
    "    return trace"
   ]
  },
  {
   "cell_type": "code",
   "execution_count": 27,
   "metadata": {
    "collapsed": false
   },
   "outputs": [
    {
     "name": "stdout",
     "output_type": "stream",
     "text": [
      "    iops                time\n",
      "0  21120 2016-04-28 18:58:25\n",
      "1  12742 2016-04-28 18:58:27\n",
      "2  20842 2016-04-28 18:58:29\n",
      "3  18579 2016-04-28 18:58:31\n",
      "4  12618 2016-04-28 18:58:33\n"
     ]
    },
    {
     "data": {
      "text/html": [
       "<div>\n",
       "<table border=\"1\" class=\"dataframe\">\n",
       "  <thead>\n",
       "    <tr style=\"text-align: right;\">\n",
       "      <th></th>\n",
       "      <th>split_end</th>\n",
       "      <th>split_start</th>\n",
       "      <th>y1</th>\n",
       "      <th>y2</th>\n",
       "    </tr>\n",
       "  </thead>\n",
       "  <tbody>\n",
       "    <tr>\n",
       "      <th>0</th>\n",
       "      <td>2016-04-28 18:59:06</td>\n",
       "      <td>2016-04-28 18:59:05</td>\n",
       "      <td>19489</td>\n",
       "      <td>21789</td>\n",
       "    </tr>\n",
       "    <tr>\n",
       "      <th>1</th>\n",
       "      <td>2016-04-28 18:59:06</td>\n",
       "      <td>2016-04-28 18:59:06</td>\n",
       "      <td>20243</td>\n",
       "      <td>22248</td>\n",
       "    </tr>\n",
       "    <tr>\n",
       "      <th>2</th>\n",
       "      <td>2016-04-28 18:59:06</td>\n",
       "      <td>2016-04-28 18:59:06</td>\n",
       "      <td>20626</td>\n",
       "      <td>21720</td>\n",
       "    </tr>\n",
       "    <tr>\n",
       "      <th>3</th>\n",
       "      <td>2016-04-28 18:59:06</td>\n",
       "      <td>2016-04-28 18:59:06</td>\n",
       "      <td>19503</td>\n",
       "      <td>22635</td>\n",
       "    </tr>\n",
       "    <tr>\n",
       "      <th>4</th>\n",
       "      <td>2016-04-28 18:59:07</td>\n",
       "      <td>2016-04-28 18:59:06</td>\n",
       "      <td>20501</td>\n",
       "      <td>22809</td>\n",
       "    </tr>\n",
       "  </tbody>\n",
       "</table>\n",
       "</div>"
      ],
      "text/plain": [
       "            split_end         split_start     y1     y2\n",
       "0 2016-04-28 18:59:06 2016-04-28 18:59:05  19489  21789\n",
       "1 2016-04-28 18:59:06 2016-04-28 18:59:06  20243  22248\n",
       "2 2016-04-28 18:59:06 2016-04-28 18:59:06  20626  21720\n",
       "3 2016-04-28 18:59:06 2016-04-28 18:59:06  19503  22635\n",
       "4 2016-04-28 18:59:07 2016-04-28 18:59:06  20501  22809"
      ]
     },
     "execution_count": 27,
     "metadata": {},
     "output_type": "execute_result"
    }
   ],
   "source": [
    "client_trace = get_client_tp_trace('bs11/client.log')\n",
    "print client_trace.head()\n",
    "\n",
    "df = pd.DataFrame({'split_start': get_start_split_trace('bs11/ceph-osd.0.log'),\n",
    "                   'split_end': get_finish_split_trace('bs11/ceph-osd.0.log')})\n",
    "df['y1'] = np.random.randint(19000, 21000, len(df.split_start))\n",
    "df['y2'] = np.random.randint(21500, 23500, len(df.split_start))\n",
    "df.sort_values(by='split_start', ascending=True, inplace=True)\n",
    "df.head()"
   ]
  },
  {
   "cell_type": "code",
   "execution_count": 28,
   "metadata": {
    "collapsed": false,
    "scrolled": true
   },
   "outputs": [
    {
     "data": {
      "image/png": "[encoded data removed]",
      "text/plain": [
       "<matplotlib.figure.Figure at 0x7f819f52d790>"
      ]
     },
     "metadata": {},
     "output_type": "display_data"
    }
   ],
   "source": [
    "fig = plt.figure()\n",
    "ax = fig.add_subplot(111)\n",
    "ax.plot(df.split_start, df.y1, label='Split Start', marker=',', linestyle='')\n",
    "ax.plot(df.split_end, df.y2, label='Split Complete', marker=',', linestyle='')\n",
    "ax.plot(client_trace.time, client_trace.iops, label=\"bs11\")\n",
    "lgd = ax.legend(loc='center left', bbox_to_anchor=(1, 0.5))\n",
    "plt.savefig('x.png', dpi=300, bbox_inches='tight', bbox_extra_artists=(lgd,))"
   ]
  },
  {
   "cell_type": "code",
   "execution_count": 29,
   "metadata": {
    "collapsed": false
   },
   "outputs": [
    {
     "name": "stdout",
     "output_type": "stream",
     "text": [
      "   iops                time\n",
      "0  5196 2016-04-28 22:10:35\n",
      "1  4869 2016-04-28 22:10:37\n",
      "2  4926 2016-04-28 22:10:39\n",
      "3  4969 2016-04-28 22:10:41\n",
      "4  4935 2016-04-28 22:10:43\n"
     ]
    },
    {
     "data": {
      "text/html": [
       "<div>\n",
       "<table border=\"1\" class=\"dataframe\">\n",
       "  <thead>\n",
       "    <tr style=\"text-align: right;\">\n",
       "      <th></th>\n",
       "      <th>split_end</th>\n",
       "      <th>split_start</th>\n",
       "      <th>y1</th>\n",
       "      <th>y2</th>\n",
       "    </tr>\n",
       "  </thead>\n",
       "  <tbody>\n",
       "    <tr>\n",
       "      <th>0</th>\n",
       "      <td>2016-04-28 22:12:52</td>\n",
       "      <td>2016-04-28 22:12:52</td>\n",
       "      <td>20374</td>\n",
       "      <td>23095</td>\n",
       "    </tr>\n",
       "    <tr>\n",
       "      <th>1</th>\n",
       "      <td>2016-04-28 22:12:52</td>\n",
       "      <td>2016-04-28 22:12:52</td>\n",
       "      <td>19923</td>\n",
       "      <td>22727</td>\n",
       "    </tr>\n",
       "    <tr>\n",
       "      <th>2</th>\n",
       "      <td>2016-04-28 22:12:53</td>\n",
       "      <td>2016-04-28 22:12:53</td>\n",
       "      <td>20022</td>\n",
       "      <td>22536</td>\n",
       "    </tr>\n",
       "    <tr>\n",
       "      <th>3</th>\n",
       "      <td>2016-04-28 22:12:53</td>\n",
       "      <td>2016-04-28 22:12:53</td>\n",
       "      <td>19315</td>\n",
       "      <td>21737</td>\n",
       "    </tr>\n",
       "    <tr>\n",
       "      <th>4</th>\n",
       "      <td>2016-04-28 22:12:54</td>\n",
       "      <td>2016-04-28 22:12:54</td>\n",
       "      <td>20803</td>\n",
       "      <td>22500</td>\n",
       "    </tr>\n",
       "  </tbody>\n",
       "</table>\n",
       "</div>"
      ],
      "text/plain": [
       "            split_end         split_start     y1     y2\n",
       "0 2016-04-28 22:12:52 2016-04-28 22:12:52  20374  23095\n",
       "1 2016-04-28 22:12:52 2016-04-28 22:12:52  19923  22727\n",
       "2 2016-04-28 22:12:53 2016-04-28 22:12:53  20022  22536\n",
       "3 2016-04-28 22:12:53 2016-04-28 22:12:53  19315  21737\n",
       "4 2016-04-28 22:12:54 2016-04-28 22:12:54  20803  22500"
      ]
     },
     "execution_count": 29,
     "metadata": {},
     "output_type": "execute_result"
    }
   ],
   "source": [
    "client_trace2 = get_client_tp_trace('kv11/kv_11_8000.log')\n",
    "print client_trace2.head()\n",
    "\n",
    "df2 = pd.DataFrame({'split_start': get_start_split_trace('kv11/ceph-osd.0.log'),\n",
    "                   'split_end': get_finish_split_trace('kv11/ceph-osd.0.log')})\n",
    "df2['y1'] = np.random.randint(19000, 21000, len(df.split_start))\n",
    "df2['y2'] = np.random.randint(21500, 23500, len(df.split_start))\n",
    "df2.sort_values(by='split_start', ascending=True, inplace=True)\n",
    "df2.head()"
   ]
  },
  {
   "cell_type": "code",
   "execution_count": 30,
   "metadata": {
    "collapsed": false
   },
   "outputs": [
    {
     "data": {
      "image/png": "[encoded data removed]",
      "text/plain": [
       "<matplotlib.figure.Figure at 0x7f81a81d1210>"
      ]
     },
     "metadata": {},
     "output_type": "display_data"
    }
   ],
   "source": [
    "fig = plt.figure()\n",
    "ax = fig.add_subplot(111)\n",
    "ax.plot(df2.split_start, df.y1, label='Split Start', marker=',', linestyle='')\n",
    "ax.plot(df2.split_end, df.y2, label='Split Complete', marker=',', linestyle='')\n",
    "ax.plot(client_trace2.time, client_trace2.iops, label='kv11')\n",
    "lgd = ax.legend(loc='center left', bbox_to_anchor=(1, 0.5))\n",
    "plt.savefig('x.png', dpi=300, bbox_inches='tight', bbox_extra_artists=(lgd,))"
   ]
  }
 ],
 "metadata": {
  "kernelspec": {
   "display_name": "Python 2",
   "language": "python",
   "name": "python2"
  },
  "language_info": {
   "codemirror_mode": {
    "name": "ipython",
    "version": 2
   },
   "file_extension": ".py",
   "mimetype": "text/x-python",
   "name": "python",
   "nbconvert_exporter": "python",
   "pygments_lexer": "ipython2",
   "version": "2.7.11"
  }
 },
 "nbformat": 4,
 "nbformat_minor": 0
}
