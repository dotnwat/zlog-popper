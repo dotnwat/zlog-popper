{
 "cells": [
  {
   "cell_type": "markdown",
   "metadata": {},
   "source": [
    "# Methodology\n",
    "\n",
    "These numbers are extract from Git using a manual process, which may be partially automated. A rough outline of the process is the following steps:\n",
    "\n",
    "1. Select a target sample date (e.g. Jan 1)\n",
    "2. Select a commit that close to the target date\n",
    "3. Checkout the tree and grep for \"cls_register\"\n",
    "4. Count instances of \"cls_register\" for different object classes.\n",
    "\n",
    "The sha1 points for creating this data set:\n",
    "\n",
    "* 1/1/2010\t14f2c78614ba2572022d02f91a46ca6fe62c4aee\n",
    "* 1/1/2011\t789cb9a403839c395db652d226f411aa7fc14a61\n",
    "* 1/1/2012\tf8929bad58968af04ebf7ce54dd716cc1e98195f\n",
    "* 1/1/2013\te10267b531fecb7e75dc99255a98fdbb913e6049\n",
    "* 1/1/2014\t40018fcc845e494aabfcbacd52ce6ac1d8197b3e\n",
    "* 1/1/2015\t020983b0a53fd8791637702ef9a82ec7369fd448\n",
    "* 1/1/2016\t8ef0dfb30e636454891a5a5c8fdd77dde3417953"
   ]
  },
  {
   "cell_type": "code",
   "execution_count": 1,
   "metadata": {
    "collapsed": false
   },
   "outputs": [
    {
     "name": "stderr",
     "output_type": "stream",
     "text": [
      "/opt/conda/envs/python2/lib/python2.7/site-packages/matplotlib/font_manager.py:273: UserWarning: Matplotlib is building the font cache using fc-list. This may take a moment.\n",
      "  warnings.warn('Matplotlib is building the font cache using fc-list. This may take a moment.')\n"
     ]
    }
   ],
   "source": [
    "import sys\n",
    "import glob\n",
    "import os\n",
    "import re\n",
    "import pandas as pd\n",
    "import matplotlib\n",
    "import matplotlib.pyplot as plt\n",
    "import numpy as np\n",
    "%matplotlib inline\n",
    "matplotlib.style.use('ggplot')"
   ]
  },
  {
   "cell_type": "code",
   "execution_count": 2,
   "metadata": {
    "collapsed": false
   },
   "outputs": [],
   "source": [
    "#df = pd.read_csv(\"data.csv\", parse_dates=True, infer_datetime_format=True)\n",
    "dt_parser = lambda date: pd.datetime.strptime(date, '%Y-%M-%d')\n",
    "df = pd.read_csv(\"data.csv\", parse_dates=[0], date_parser=dt_parser)\n",
    "df.set_index('Date', inplace=True)"
   ]
  },
  {
   "cell_type": "code",
   "execution_count": 49,
   "metadata": {
    "collapsed": false
   },
   "outputs": [
    {
     "name": "stdout",
     "output_type": "stream",
     "text": [
      "                     Classes  Methods    LOC\n",
      "Date                                        \n",
      "2010-01-01 00:01:00        2        2    100\n",
      "2011-01-01 00:01:00        3        9    401\n",
      "2012-01-01 00:01:00        4       15    410\n",
      "2013-01-01 00:01:00        7       71   4389\n",
      "2014-01-01 00:01:00       11       88   6340\n",
      "2015-01-01 00:01:00       12       93   6952\n",
      "2016-01-01 00:01:00       16      146  11724\n"
     ]
    }
   ],
   "source": [
    "print df"
   ]
  },
  {
   "cell_type": "code",
   "execution_count": 94,
   "metadata": {
    "collapsed": false
   },
   "outputs": [
    {
     "data": {
      "image/png": "[encoded data removed]",
      "text/plain": [
       "<matplotlib.figure.Figure at 0x7f0c8997fe10>"
      ]
     },
     "metadata": {},
     "output_type": "display_data"
    }
   ],
   "source": [
    "pos = list(range(len(df['Classes'])))\n",
    "width = 0.25\n",
    "pos = map(lambda x: x+width, pos)\n",
    "\n",
    "\n",
    "fig, ax = plt.subplots()\n",
    "\n",
    "plt.bar(pos, df['Classes'], width,\n",
    "  color=plt.rcParams['axes.color_cycle'][0],\n",
    "  label='Classes')\n",
    "\n",
    "plt.bar([p + width for p in pos], df['Methods'], width,\n",
    "  color=plt.rcParams['axes.color_cycle'][1],\n",
    "  label='Methods')\n",
    "\n",
    "ax2 = ax.twinx()\n",
    "ax2.plot([p + width for p in pos], df['LOC'],\n",
    "  color=plt.rcParams['axes.color_cycle'][3],\n",
    "  label='LOC', marker='')\n",
    "\n",
    "ax.set_ylabel(\"Interface Count\")\n",
    "ax.set_xlabel(\"Sample Date\")\n",
    "ax2.set_ylabel('Lines of Code')\n",
    "\n",
    "h1, l1 = ax.get_legend_handles_labels()\n",
    "h2, l2 = ax2.get_legend_handles_labels()\n",
    "ax.legend(h1+h2, l1+l2, loc='upper left')\n",
    "\n",
    "xticks = []\n",
    "for date in df.index:\n",
    "    year = date.strftime('%Y')\n",
    "    xticks.append(year)\n",
    "\n",
    "ax.set_xticks([p + width for p in pos])\n",
    "ax.set_xticklabels(xticks)\n",
    "\n",
    "plt.savefig('output.png', dpi=300, bbox_inches='tight')"
   ]
  },
  {
   "cell_type": "code",
   "execution_count": null,
   "metadata": {
    "collapsed": true
   },
   "outputs": [],
   "source": []
  }
 ],
 "metadata": {
  "kernelspec": {
   "display_name": "Python 2",
   "language": "python",
   "name": "python2"
  },
  "language_info": {
   "codemirror_mode": {
    "name": "ipython",
    "version": 2
   },
   "file_extension": ".py",
   "mimetype": "text/x-python",
   "name": "python",
   "nbconvert_exporter": "python",
   "pygments_lexer": "ipython2",
   "version": "2.7.11"
  }
 },
 "nbformat": 4,
 "nbformat_minor": 0
}
